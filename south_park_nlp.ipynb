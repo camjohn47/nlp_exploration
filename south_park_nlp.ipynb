{
 "cells": [
  {
   "cell_type": "markdown",
   "metadata": {},
   "source": [
    "# Project Description\n",
    "This project is about exploring speech data from South Park with NLP. We'll look at how to process NLP data, build and interpret NLP pipelines, calculate and intrepret different word association metrics, and assess different pipeline configurations for text classification. \n",
    "\n",
    "## Processing Speech Data\n",
    "Linguistic data is a particularly complex and challenging type of data to mine and analyze. Like other types of data, text documents require processing of raw data into clean, structured features in order to be modeled. However, processing of linguistic data is uniquely tricky for several reasons--two of which being that text is not numeric and that interpreting speech is difficult and subjective. \n",
    "\n",
    "This is why data processing and feature extraction is an especially involved process for NLP. We'll break down NLP processing with first principles to provide a more interpretable understanding. First, let's load our csv-formatted South Park speech data."
   ]
  },
  {
   "cell_type": "code",
   "execution_count": 1,
   "metadata": {
    "colab": {
     "base_uri": "https://localhost:8080/",
     "height": 426
    },
    "colab_type": "code",
    "executionInfo": {
     "elapsed": 1206,
     "status": "error",
     "timestamp": 1586366388538,
     "user": {
      "displayName": "Calvin John",
      "photoUrl": "",
      "userId": "17193914696154505817"
     },
     "user_tz": 420
    },
    "id": "riPtHpKKde3z",
    "outputId": "0e5631c0-21b2-431c-e68e-0177e35ee41e"
   },
   "outputs": [
    {
     "name": "stdout",
     "output_type": "stream",
     "text": [
      "      Season Episode Character  \\\n",
      "0         10       1      Stan   \n",
      "1         10       1      Kyle   \n",
      "2         10       1      Stan   \n",
      "3         10       1      Chef   \n",
      "4         10       1      Stan   \n",
      "...      ...     ...       ...   \n",
      "70891      9      14      Stan   \n",
      "70892      9      14     Randy   \n",
      "70893      9      14      Stan   \n",
      "70894      9      14     Randy   \n",
      "70895      9      14      Stan   \n",
      "\n",
      "                                                    Line  \n",
      "0             You guys, you guys! Chef is going away. \\n  \n",
      "1                            Going away? For how long?\\n  \n",
      "2                                             Forever.\\n  \n",
      "3                                      I'm sorry boys.\\n  \n",
      "4      Chef said he's been bored, so he joining a gro...  \n",
      "...                                                  ...  \n",
      "70891                       I think you're pushing it.\\n  \n",
      "70892                                How about twenty?\\n  \n",
      "70893                           That's not disciprine.\\n  \n",
      "70894                   Right right. Does vodka count?\\n  \n",
      "70895                                             Dad!\\n  \n",
      "\n",
      "[70896 rows x 4 columns]\n"
     ]
    }
   ],
   "source": [
    "import pandas as pd\n",
    "df = pd.read_csv('all_seasons.csv',header = 0,skiprows=0)\n",
    "print(df)"
   ]
  },
  {
   "cell_type": "markdown",
   "metadata": {},
   "source": [
    "We can see that our raw data has 70,896 South Park quotes. Each quote has three accompanying characteristics: the season in which it appeared, the episode in which it appeared, and the character who spoke it. In terms of NLP terminology, each quote is considered a document, and each word in a document is considered a term.\n",
    "\n",
    "Processing raw text data with NLP typically consists of **tokenization**, followed by **word reduction**, and then concluded with **vectorization**. These operations are performed sequentially, so they represent a **pipeline**. Tokenization is usually the most straightfoward part of such a pipeline. It deconstructs speech into individual words of interest. **Stop words** are the words which will be filtered out during the tokenization process and thus won't be considered in the model. Some common stop words are conjunctions like \"or,\" and \"the,\" which provide little to no meaningful information--especially when isolated from their surrounding context. Here's an example to illustrate tokenization with nltk and how it varies with different stop words. "
   ]
  },
  {
   "cell_type": "code",
   "execution_count": 2,
   "metadata": {},
   "outputs": [
    {
     "name": "stdout",
     "output_type": "stream",
     "text": [
      "Input document: The lazy fox jumped over the log.\n",
      "\n",
      "Tokenization with stop words = {'the'}: ['lazy', 'fox', 'jumped', 'over', 'log', '.']\n",
      "Tokenization with stop words = {'the','over'}: ['lazy', 'fox', 'jumped', 'log', '.']\n"
     ]
    }
   ],
   "source": [
    "import nltk\n",
    "\n",
    "document = 'The lazy fox jumped over the log.'\n",
    "print(\"Input document: \" + str(document))\n",
    "print()\n",
    "\n",
    "stop_words = set(['the'])\n",
    "tokens = nltk.word_tokenize(document.lower())\n",
    "valid_tokens = [token for token in tokens if token not in stop_words]\n",
    "print(\"Tokenization with stop words = {'the'}: \" + str(valid_tokens))\n",
    "\n",
    "stop_words = set(['the','over'])\n",
    "tokens = nltk.word_tokenize(document.lower())\n",
    "valid_tokens = [token for token in tokens if token not in stop_words]\n",
    "print(\"Tokenization with stop words = {'the','over'}: \" + str(valid_tokens))"
   ]
  },
  {
   "cell_type": "markdown",
   "metadata": {},
   "source": [
    "You might notice that one of the tokens is punctuation. Whether to consider punctuation or filter it out is another one of many choices you have for NLP processing. I prefer to include punctuation bcause it can indicate emotional context, as well as writing style if the document was written by the speaker directly. However, if filtering out punctuation is of interest to you, here's a simple method for doing so."
   ]
  },
  {
   "cell_type": "code",
   "execution_count": 3,
   "metadata": {},
   "outputs": [
    {
     "name": "stdout",
     "output_type": "stream",
     "text": [
      "Tokens before punctuation filter: ['lazy', 'fox', 'jumped', 'log', '.']\n",
      "Tokens after punctuation filter: ['lazy', 'fox', 'jumped', 'log']\n"
     ]
    }
   ],
   "source": [
    "import string\n",
    "\n",
    "def remove_punctuation(word):\n",
    "    for char in word:\n",
    "        if char in string.punctuation:\n",
    "            word = word.replace(char,'')\n",
    "    \n",
    "    return word\n",
    "\n",
    "print(\"Tokens before punctuation filter: \" + str(valid_tokens))\n",
    "unpunctuated_tokens = [remove_punctuation(token) for token in valid_tokens if remove_punctuation(token)]\n",
    "print(\"Tokens after punctuation filter: \" + str(unpunctuated_tokens))"
   ]
  },
  {
   "cell_type": "markdown",
   "metadata": {},
   "source": [
    "Word reduction is the simplification of words to their root words. *Why simplify words in such a way?* One source of motivation is to represent different variations of the same word equivalently. Through doing so, we minimize both the amount of considered words and the complexity of our model. Stemming and lemmatization are two different approaches for word reduction. \n",
    "\n",
    "Lemmatization considers the way in which a word is used (its *morphology*) when reducing it, while stemming is restricted to word transformation through simple operations like removing suffixes and prefixes. Lemmatization is qualitatively superior to stemming because it represents words according to their surrounding contexts, but it typically takes more time. \n",
    "\n",
    "Here are some simple stemmer and lemmatizer classes. They both tokenize a document into word tokens, which are then either stemmed or lemmatized into core words. Once the word reduction has completed, its resulting data will be ready for building features."
   ]
  },
  {
   "cell_type": "code",
   "execution_count": 4,
   "metadata": {
    "colab": {},
    "colab_type": "code",
    "id": "Jp-krNFdde36"
   },
   "outputs": [],
   "source": [
    "from nltk import WordNetLemmatizer as wnl\n",
    "from nltk.stem import PorterStemmer\n",
    "\n",
    "class Stemmer(object):\n",
    "    def __init__(self):\n",
    "        self.stemmer = PorterStemmer()\n",
    "    def __call__(self, doc):\n",
    "        tokens = nltk.word_tokenize(doc.lower())\n",
    "        stems = [self.stemmer.stem(token) for token in tokens]\n",
    "        \n",
    "        return stems\n",
    "\n",
    "class Lemmatizer(object):\n",
    "    def __init__(self):\n",
    "        self.wnl = wnl()\n",
    "    def __call__(self, doc):\n",
    "        tokens = nltk.word_tokenize(doc.lower())\n",
    "        lemmas = [self.wnl.lemmatize(token) for token in tokens]\n",
    "        \n",
    "        return lemmas\n",
    "                    "
   ]
  },
  {
   "cell_type": "markdown",
   "metadata": {},
   "source": [
    "Now we can finish the processing phase with vectorization: the mapping of pre-processed tokens into a numerical representation. Basically, we need to express our tokens in terms of informative numerical features so that we can analyze and model them. The two most common vectorization methods are **count vectorization** and **tfidf**. We'll discuss tfidf shortly, but for now, we'll stick to count vectorization. Count vectorization simply measures the amount of times each token appears in each document. These measurements can be used to build an (m x n) **term document matrix** with some key properties: \n",
    "* It has $m$ rows, where $m$ = # of documents (or quotes).\n",
    "* It has $n$ columns, where $n$ = # of tokens.\n",
    "* Its $(i,j)$th element is the frequency with which $token_{i}$ appears in $document_{j}$.\n",
    "\n",
    "Using nltk and sklearn, we'll process our speech data with a count vectorizer to begin some exploration and analysis of the data. Sklearn vectorizers are capable of all pre-processing tasks: tokenization, stemming and/or lemmatization, and vectorization. Finding least and most popular tokens is a useful way to start exploring linguistic data and to validate that your processing system is working well. Note that for a term document matrix, a column's sum represents a word's total frequency across all documents. So we can find a word's frequency by calculating its column sum."
   ]
  },
  {
   "cell_type": "code",
   "execution_count": 5,
   "metadata": {
    "colab": {},
    "colab_type": "code",
    "id": "L0HM5rH6de39",
    "outputId": "934fa55d-1d31-49eb-9f33-66c2fbf32444"
   },
   "outputs": [
    {
     "name": "stderr",
     "output_type": "stream",
     "text": [
      "[nltk_data] Downloading package averaged_perceptron_tagger to\n",
      "[nltk_data]     /Users/camjohn/nltk_data...\n",
      "[nltk_data]   Package averaged_perceptron_tagger is already up-to-\n",
      "[nltk_data]       date!\n",
      "[nltk_data] Downloading package wordnet to /Users/camjohn/nltk_data...\n",
      "[nltk_data]   Package wordnet is already up-to-date!\n",
      "[nltk_data] Downloading package stopwords to\n",
      "[nltk_data]     /Users/camjohn/nltk_data...\n",
      "[nltk_data]   Package stopwords is already up-to-date!\n",
      "/usr/local/lib/python3.7/site-packages/sklearn/feature_extraction/text.py:300: UserWarning: Your stop_words may be inconsistent with your preprocessing. Tokenizing the stop words generated tokens [\"'d\", \"'ll\", \"'re\", \"'s\", \"'ve\", 'could', 'doe', 'ha', 'might', 'must', \"n't\", 'need', 'sha', 'wa', 'wo', 'would'] not in stop_words.\n",
      "  'stop_words.' % sorted(inconsistent))\n"
     ]
    },
    {
     "name": "stdout",
     "output_type": "stream",
     "text": [
      "Most popular words.\n",
      "\n",
      "1. ,: 62722\n",
      "2. .: 62365\n",
      "3. !: 43523\n",
      "4. ?: 24138\n",
      "5. 's: 16402\n",
      "6. n't: 10581\n",
      "7. ...: 6623\n",
      "8. 're: 5674\n",
      "9. oh: 5613\n",
      "10. 'm: 5017\n",
      "11. get: 4155\n",
      "12. yeah: 3672\n",
      "13. know: 3593\n",
      "14. na: 3534\n",
      "15. well: 3530\n"
     ]
    }
   ],
   "source": [
    "import numpy as np\n",
    "import nltk\n",
    "from nltk import pos_tag\n",
    "from nltk.corpus import stopwords\n",
    "from sklearn.feature_extraction.text import CountVectorizer,TfidfVectorizer, TfidfTransformer\n",
    "from sklearn.feature_extraction import text\n",
    "\n",
    "# Download some random nltk data we need.\n",
    "nltk.download('averaged_perceptron_tagger')\n",
    "nltk.download('wordnet')\n",
    "nltk.download('stopwords')\n",
    "\n",
    "# Create a count vectorizer for tokenizing, lemmatizing and vectorizing our raw quotes. #min_df = minimum token count for the token to be included. \n",
    "stop_words = stopwords.words('english')\n",
    "count_vectorizer = CountVectorizer(min_df=2,tokenizer=Lemmatizer(),stop_words=stop_words)\n",
    "quotes = df['Line']\n",
    "document_term_matrix = count_vectorizer.fit_transform(quotes)\n",
    "\n",
    "# Get the top <num_words> most popular words from a document term matrix and its vectorizer.\n",
    "def get_top_words(num_words,document_term_matrix,count_vectorizer):\n",
    "    word_totals = np.sum(document_term_matrix,axis=0)\n",
    "    descending_cols = np.argsort(-word_totals,axis=1)\n",
    "    descending_cols = np.squeeze(np.asarray(descending_cols))\n",
    "    max_cols = list(descending_cols)[0:num_words]\n",
    "    popular_counts = [word_totals[0,col] for col in max_cols]\n",
    "    \n",
    "    column_words = count_vectorizer.get_feature_names()\n",
    "    popular_words = [column_words[col] for col in max_cols]\n",
    "    word_counts = dict(zip(popular_words,popular_counts))\n",
    "    \n",
    "    return word_counts\n",
    "\n",
    "num_words = 15\n",
    "top_word_counts = get_top_words(num_words,document_term_matrix,count_vectorizer)\n",
    "i = 1\n",
    "print(\"Most popular words.\")\n",
    "print()\n",
    "for word,count in top_word_counts.items():\n",
    "    print(str(i) + '. ' + word + ': ' + str(count))\n",
    "    i += 1"
   ]
  },
  {
   "cell_type": "markdown",
   "metadata": {},
   "source": [
    "There's an inconsistency problem in our processing pipeline. Inconsistency in this context means that pre-processing stop words (tokenization,lemmatization,stemming...) produces some valid words not contained in stop words. Additionally, the most popular words above fail the intuition test. More specifically, some of the popular tokens, like \"n't\", are word fragments that have no independent meaning.\n",
    "\n",
    "Rather than experiment with different stop words and lemmatization/stemming methods (of which there are many), we'll try a simpler trick. Unless the problem demands for specific, custom pre-processing, returning to default NLP configurations in Python is likely an effective solution. Also, sklearn's countvectorizer is fairly robust and can be a good default option to fall back on."
   ]
  },
  {
   "cell_type": "code",
   "execution_count": 6,
   "metadata": {},
   "outputs": [
    {
     "name": "stdout",
     "output_type": "stream",
     "text": [
      "Most popular words.\n",
      "1. oh: 5774\n",
      "2. get: 4009\n",
      "3. yeah: 3705\n",
      "4. well: 3583\n",
      "5. know: 3474\n",
      "6. right: 3462\n",
      "7. like: 3243\n",
      "8. go: 3206\n",
      "9. come: 2614\n",
      "10. gonna: 2567\n",
      "11. let: 2445\n",
      "12. see: 2419\n",
      "13. uh: 2351\n",
      "14. us: 2254\n",
      "15. think: 2224\n"
     ]
    }
   ],
   "source": [
    "count_vectorizer = CountVectorizer(min_df=2,stop_words=stop_words)\n",
    "document_term_matrix = count_vectorizer.fit_transform(quotes)\n",
    "top_word_counts = get_top_words(num_words,document_term_matrix,count_vectorizer)\n",
    "i = 1\n",
    "print(\"Most popular words.\")\n",
    "for word,count in top_word_counts.items():\n",
    "    print(str(i) + '. ' + word + ': ' + str(count))\n",
    "    i += 1"
   ]
  },
  {
   "cell_type": "markdown",
   "metadata": {},
   "source": [
    "Not only is the pre-processing now consistent, but it looks much better intuitively. Most popular tokens are now valid words that make sense given our knowledge of South Park. We'll now implement a similar algorithm for finding rarest words."
   ]
  },
  {
   "cell_type": "code",
   "execution_count": 7,
   "metadata": {
    "colab": {},
    "colab_type": "code",
    "id": "qg0-gKFCde4B",
    "outputId": "c2cd1701-7f24-400f-d28f-8247d5d4b121"
   },
   "outputs": [
    {
     "name": "stdout",
     "output_type": "stream",
     "text": [
      "Least popular words.\n",
      "\n",
      "1. 00: 2\n",
      "2. irritable: 2\n",
      "3. irrational: 2\n",
      "4. irons: 2\n",
      "5. irish: 2\n",
      "6. irimasu: 2\n",
      "7. ir: 2\n",
      "8. involving: 2\n",
      "9. irwin: 2\n",
      "10. involvement: 2\n",
      "11. invent: 2\n",
      "12. invaded: 2\n",
      "13. intricate: 2\n",
      "14. intoxicated: 2\n",
      "15. intervene: 2\n"
     ]
    }
   ],
   "source": [
    "# Same idea as above, except that we're now finding words whose respective column sums are minimal. \n",
    "# It follows that these words correspond to the rarest words.\n",
    "def get_rarest_words(num_words,document_term_matrix,count_vectorizer):\n",
    "    word_totals = np.sum(document_term_matrix,axis=0)\n",
    "    ascending_cols = np.argsort(word_totals,axis=1)\n",
    "    ascending_cols = np.squeeze(np.asarray(ascending_cols))\n",
    "    min_cols = list(ascending_cols)[0:num_words]\n",
    "    \n",
    "    column_words = count_vectorizer.get_feature_names()\n",
    "    rarest_words = [column_words[col] for col in min_cols]\n",
    "    rarest_counts = [word_totals[0,col] for col in min_cols]\n",
    "    word_counts = dict(zip(rarest_words,rarest_counts))\n",
    "    \n",
    "    return word_counts\n",
    "\n",
    "rarest_word_counts = get_rarest_words(num_words,document_term_matrix,count_vectorizer)\n",
    "i = 1\n",
    "print(\"Least popular words.\")\n",
    "print()\n",
    "for word,count in rarest_word_counts.items():\n",
    "    print(str(i) + '. ' + word + ': ' + str(count))\n",
    "    i += 1"
   ]
  },
  {
   "cell_type": "markdown",
   "metadata": {},
   "source": [
    "If you're curious about how to thoroughly test and validate these rarest words, that's a great curiosity to have. Unfortunately, this is a feature engineering result for which proving some notion of accuracy is difficult. Instead, we can use our intuition about English and South Park, as well as the most popular word counts, to suggest that the rarest words and their respective counts seem reasonable. Intuition is a helpful and sometimes neccessary tool for exploratory analysis."
   ]
  },
  {
   "cell_type": "markdown",
   "metadata": {},
   "source": [
    "Note that word frequency is a poor metric for measuring word importance and word associations. You can learn about some of these flaws in more depth below.\n",
    "* Some of the most universal english words are structural parts of speech (ie, conjunctions and prepositions) that have little to no individual meaning or value. Because their purpose is to provide relational context between words in the same sentence, a lot of the original info these words had (which wasn't much to begin with) is lost when they're isolated. Linguistic meaning is far from linear. Ie, words, sentences, paragraphs,... collectively represent something very different from their individual components. Context usually matters quite a bit. \n",
    "\n",
    "\n",
    "* Consider word frequency in the context of a random variable's distribution. The more likely a random variable is to have certain outcomes, the less informative those outcomes are when they occur. Why? Because they were anticipated more strongly than the less likely outcomes. For ex, if you know that Jack yells \"Wolf,\" with probability 1, how much information do you gain when that happens? Zero. Conversely, if Jack never says \"Wolf\" but then suddenly shouts it, that is a very surprising event. Surprise, in this context, embodies information. "
   ]
  },
  {
   "cell_type": "markdown",
   "metadata": {},
   "source": [
    "## Tfidf Vectorization\n",
    "Now we'll restructure our processed features with a **tfidf** vectorizer. Tfidf is a NLP metric which scales a term's frequency (or \"tf\") by an inverse document frequency factor (or \"idf\"). Idf is defined as the inverse ratio of # of documents containing the term to total # of documents. So idf grows as a term's number of documents declines, thereby increasing that term's tfidf with its associated documents (for unassociated documents, tf=0 so the tf*idf product will be zero). \n",
    "\n",
    "Conversely, idf decays when a term's amount of associated documents increases. Intuition behind this idea is that there is a stronger, more informative association between a word and a document if the word is not likely to be found in other documents. As previously discussed, words that frequently occur in different documents are inherently less informative about the documents in which they appear.   "
   ]
  },
  {
   "cell_type": "code",
   "execution_count": 8,
   "metadata": {
    "colab": {},
    "colab_type": "code",
    "id": "gxLT3xNbde4F",
    "outputId": "56d6f3c1-1625-42d6-8f3f-d94538c236d2"
   },
   "outputs": [
    {
     "name": "stdout",
     "output_type": "stream",
     "text": [
      "  (0, 372)\t0.55531296607134\n",
      "  (0, 149)\t0.5669614622726928\n",
      "  (0, 350)\t0.35040515085250046\n",
      "  (0, 47)\t0.49739163670763203\n",
      "  (1, 350)\t0.42886676673384494\n",
      "  (1, 47)\t0.6087660027721742\n",
      "  (1, 516)\t0.6674408215415409\n",
      "  (2, 307)\t1.0\n",
      "  (3, 796)\t0.7205934104145973\n",
      "  (3, 93)\t0.6933578707039098\n",
      "  (4, 149)\t0.3302075304863642\n",
      "  (4, 724)\t0.27407759100374846\n",
      "  (4, 367)\t0.5102521540743851\n",
      "  (4, 119)\t0.3668787769671991\n",
      "  (4, 837)\t0.4313877113212251\n",
      "  (4, 164)\t0.4845532021504104\n",
      "  (5, 986)\t1.0\n",
      "  (6, 149)\t0.35844658459705236\n",
      "  (6, 475)\t0.3548475725379728\n",
      "  (6, 683)\t0.5619341875941813\n",
      "  (6, 870)\t0.1944036001458559\n",
      "  (6, 980)\t0.3188581962959062\n",
      "  (6, 353)\t0.18427948734075425\n",
      "  (6, 31)\t0.5063664448975309\n",
      "  (7, 504)\t1.0\n",
      "  :\t:\n",
      "  (70884, 791)\t0.6633014365989471\n",
      "  (70884, 866)\t0.7483523262513272\n",
      "  (70885, 697)\t0.27739738453292456\n",
      "  (70885, 786)\t0.7369264640963332\n",
      "  (70885, 855)\t0.616433352089882\n",
      "  (70886, 859)\t0.243493301936715\n",
      "  (70886, 609)\t0.11472388316311563\n",
      "  (70886, 506)\t0.1527033361166822\n",
      "  (70886, 501)\t0.17374389298842838\n",
      "  (70886, 418)\t0.2969566088232852\n",
      "  (70886, 498)\t0.35740422223677776\n",
      "  (70886, 130)\t0.42949460003570794\n",
      "  (70886, 937)\t0.4692319287748291\n",
      "  (70886, 945)\t0.3491966069285796\n",
      "  (70886, 323)\t0.36268540500477703\n",
      "  (70887, 711)\t1.0\n",
      "  (70888, 515)\t0.47461045904771193\n",
      "  (70888, 171)\t0.4468614915783703\n",
      "  (70888, 546)\t0.7583269212594751\n",
      "  (70889, 613)\t0.3883398342375869\n",
      "  (70889, 671)\t0.9215162359634926\n",
      "  (70891, 870)\t1.0\n",
      "  (70894, 711)\t0.6451908588103605\n",
      "  (70894, 231)\t0.76402143668064\n",
      "  (70895, 200)\t1.0\n"
     ]
    }
   ],
   "source": [
    "vectorizer = TfidfVectorizer(min_df=2, analyzer='word',stop_words='english',norm='l2',sublinear_tf=True,binary=False,smooth_idf=True,max_features=1000)\n",
    "quotes = df['Line']\n",
    "lemmatized_quotes = vectorizer.fit_transform(quotes)\n",
    "tf = TfidfTransformer()\n",
    "tf_mat = tf.fit_transform(lemmatized_quotes)\n",
    "print(tf_mat)"
   ]
  },
  {
   "cell_type": "markdown",
   "metadata": {},
   "source": [
    "As part of exploratory analysis, let's build a character frequency distribution to see how well each character is represented in our data. For each character, we'll calculate its quote quantity. "
   ]
  },
  {
   "cell_type": "code",
   "execution_count": 9,
   "metadata": {
    "colab": {},
    "colab_type": "code",
    "id": "-lNcBJ6qde4H",
    "outputId": "91badac4-e01e-439e-ce75-984ca5b1702b"
   },
   "outputs": [
    {
     "name": "stdout",
     "output_type": "stream",
     "text": [
      "Most Popular Characters\n",
      "\n",
      "             Character  # of Quotes\n",
      "0              Cartman         9774\n",
      "1                 Stan         7680\n",
      "2                 Kyle         7099\n",
      "3              Butters         2602\n",
      "4                Randy         2467\n",
      "...                ...          ...\n",
      "3945  You And Me, Girl            1\n",
      "3946      Young Worker            1\n",
      "3947  Younger Daughter            1\n",
      "3948          Zipliner            1\n",
      "3949  Zombie Mortician            1\n",
      "\n",
      "[3950 rows x 2 columns]\n"
     ]
    }
   ],
   "source": [
    "from sklearn.naive_bayes import MultinomialNB\n",
    "from sklearn.preprocessing import LabelEncoder\n",
    "from sklearn.model_selection import train_test_split\n",
    "\n",
    "# Create a feature encoder. Feature encoders are used to map feature indices to their respective features and vice-versa.\n",
    "# In this application, we're now exploring a different feature: the quote's speaking character. The label encoder\n",
    "# will encode the character column in 'df' with integer indices--allowing for character information to be represented in our analysis.\n",
    "\n",
    "encoder = LabelEncoder()\n",
    "characters = df[\"Character\"]\n",
    "encoder.fit(characters)\n",
    "characters_encoded = encoder.transform(characters)\n",
    "characters = encoder.classes_\n",
    "encodings = encoder.transform(characters)\n",
    "decoder = dict(zip(encodings,characters))\n",
    "\n",
    "# Dictionaries below are intended for accessing a character's list of rows (=character's quotes), and its frequency = # of quotes.\n",
    "character_to_rows = {char:[] for char in characters}\n",
    "character_to_total = {char:0 for char in characters}\n",
    "for row,character_encoded in enumerate(characters_encoded):\n",
    "    character = decoder[character_encoded]\n",
    "    character_to_rows[character].append(row)\n",
    "    character_to_total[character] += 1\n",
    "\n",
    "# Determine most popular characters through sorting character frequencies. \n",
    "popular_characters = sorted(character_to_total,key=character_to_total.get,reverse=True)\n",
    "popular_totals = [character_to_total[character] for character in popular_characters]\n",
    "characters_data = {\"Character\":popular_characters}\n",
    "df_characters = pd.DataFrame(characters_data)\n",
    "df_characters.insert(1,\"# of Quotes\",popular_totals)\n",
    "\n",
    "print(\"Most Popular Characters\")\n",
    "print()\n",
    "print(df_characters)"
   ]
  },
  {
   "cell_type": "markdown",
   "metadata": {},
   "source": [
    "Now we'll produce some visuals for both character frequency and average character polarity. Polarity captures the emotional positivity of a document through averaging the polarity of its individual words. Its range of values is [-1,1], where -1 and 1 correspond to negative and positive, respectively. "
   ]
  },
  {
   "cell_type": "code",
   "execution_count": 10,
   "metadata": {},
   "outputs": [
    {
     "data": {
      "text/plain": [
       "<matplotlib.axes._subplots.AxesSubplot at 0x128bf2550>"
      ]
     },
     "execution_count": 10,
     "metadata": {},
     "output_type": "execute_result"
    },
    {
     "data": {
      "image/png": "[encoded data removed]",
      "text/plain": [
       "<Figure size 432x288 with 1 Axes>"
      ]
     },
     "metadata": {
      "needs_background": "light"
     },
     "output_type": "display_data"
    },
    {
     "data": {
      "image/png": "[encoded data removed]",
      "text/plain": [
       "<Figure size 432x288 with 1 Axes>"
      ]
     },
     "metadata": {
      "needs_background": "light"
     },
     "output_type": "display_data"
    }
   ],
   "source": [
    "from textblob import TextBlob\n",
    "\n",
    "def character_polarity(character,character_to_rows,quotes):\n",
    "    character_rows = character_to_rows[character]\n",
    "    average_polarity = 0.0\n",
    "    for row in character_rows:\n",
    "        average_polarity += TextBlob(quotes[row]).sentiment.polarity\n",
    "        #print(quotes[row])\n",
    "        #print(TextBlob(quotes[row]).sentiment.polarity)\n",
    "    \n",
    "    average_polarity = average_polarity / float(len(character_rows))\n",
    "    \n",
    "    return average_polarity\n",
    "        \n",
    "top_characters = df_characters.loc[df_characters['# of Quotes'] >= 500]\n",
    "top_characters_polarity = [character_polarity(character,character_to_rows,quotes) for character in top_characters['Character']]\n",
    "top_characters.insert(2,'Polarity',top_characters_polarity)\n",
    "top_characters.plot.bar(x='Character',y='# of Quotes')\n",
    "top_characters.plot.bar(x='Character',y='Polarity',color='red')"
   ]
  },
  {
   "cell_type": "markdown",
   "metadata": {},
   "source": [
    "The character frequency bar plot validates data quality in the sense that the most represented characters are those which are the most represented in the show. Character polarity is a bit more interesting--particularly with regards to some noticeable outliers. Cartman is one of the most notoriously evil characters in animated television, yet his average polarity is positive and somewhat normal relative to the other main characters. More generally, average polarity is positive for every character, despite the fact that these characters range from moderately cynical to completely egregious (except for Butters!). This is mild evidence of a slight positive bias in TextBlob's polarity measure. "
   ]
  },
  {
   "cell_type": "markdown",
   "metadata": {},
   "source": [
    "## Word Character Relationships \n",
    "\n",
    "**Logistic modeling** is a standard supervised learning approach for classification and regression. It's especially valuable in that it has a very clear, probabilistic interpretation. For example, log regression can be used in learning chess to predict who will win given the current board. After training on thousands of games, the logistic output from a board will represent either the probability of white winning (regression), or the player most likely to win (classification). Note that this probabilistic interpretation quality is very unique. Other models, such as SVM and decision trees, cannot be interpreted in probabilistic frameworks, and rely on linear algebra for relevance.\n",
    "\n",
    "This concept extends to multinomial problems, where the predicted variable has more than 2 possible outcomes. Since we're concerned with predicting a quote's character from more than two possible characters, a multinomial model is appropriate. Let's train a multinomial logistic model using sklearn to predict speaking character from South Park quotes. Then, we'll use these logistic coefficients to determine characteristic words for some popular characters. A **characteristic word** for a character is one that is strongly associated to that character--it indicates that character may have spoken it. We could use sklearn's feature importance directly, but instead we'll develop a quick algorithm to illustrate the underlying linear algebra and logic."
   ]
  },
  {
   "cell_type": "code",
   "execution_count": 11,
   "metadata": {
    "colab": {},
    "colab_type": "code",
    "id": "TWomVnoNde4M",
    "outputId": "101da84b-c5ff-4a28-8dd2-b89305c964d3"
   },
   "outputs": [
    {
     "name": "stdout",
     "output_type": "stream",
     "text": [
      "       Character Characteristic Words via Logistic Feature Importance\n",
      "0        Cartman  [dude, kyle, guys, butters, kenny, kitty, mom,...  \n",
      "1           Kyle  [dude, cartman, fatass, ike, hankey, stan, dre...  \n",
      "2           Stan  [dude, cartman, kyle, dad, kenny, grandpa, fat...  \n",
      "3          Randy  [sharon, stanley, stan, shelly, gerald, cruise...  \n",
      "4          Kenny  [dude, woohoo, guys, fuck, fucking, fuckin, aw...  \n",
      "5           Chef  [children, flag, women, aliens, pip, doctor, b...  \n",
      "6          Wendy  [stan, bebe, guys, list, cartman, egg, girls, ...  \n",
      "7        Butters  [fellas, awesom, dad, jeez, eric, chaos, groun...  \n",
      "8         Sharon  [stanley, randy, stan, shelly, son, sweetie, s...  \n",
      "9          Craig  [guys, craig, dude, sooo, butters, xbox, red, ...  \n",
      "10       Towelie  [high, towel, goin, bring, towelie, asshole, f...  \n",
      "11  Mr. Garrison  [hat, children, stanley, eric, mr, teacher, cl...  \n",
      "12     Mr. Slave  [christ, jesus, garrison, whore, sweetie, mr, ...  \n",
      "13         Token  [rich, stan, black, crime, yeah, thanks, token...  \n",
      "14         Jimbo  [ned, general, randy, mayor, tape, war, shoot,...  \n",
      "15           Ned  [mmm, mm, jimbo, ow, voice, box, lord, ned, do...  \n",
      "16         Timmy  [timmih, timmy, lie, ah, heh, ha, jimmy, help,...  \n",
      "17         Jimmy  [fellas, comedy, audience, timmy, talent, joke...  \n",
      "18    Mr. Mackey  [kay, students, uh, eric, drugs, counselor, to...  \n",
      "19         Satan  [saddam, chris, party, halloween, heaven, god,...  \n",
      "20      Terrance  [phillip, scott, fart, daughter, ugly, pull, d...  \n",
      "21       Phillip  [terrance, ugly, fart, cancer, friend, canada,...  \n",
      "22    Big Gay Al  [scouts, gay, animals, super, asking, big, sil...  \n",
      "23         Tweek  [man, jesus, guys, god, ah, huh, ugh, wants, c...  \n",
      "24       Grandpa  [billy, damnit, ya, hell, family, little, does...  \n",
      "25           Ike  [kyle, monster, pants, strange, bro, kick, pri...  \n"
     ]
    }
   ],
   "source": [
    "from sklearn.linear_model import LogisticRegression\n",
    "\n",
    "# weights_matrix has the coefficients derived from the trained logistic model. Its (i,j)th coefficient \n",
    "# represents the weight word_j has on character_i's likelihood. For example, the word 'mr. slave' likely has a large coefficient for Mr. Garrison.\n",
    "log_classifier = LogisticRegression(solver='sag',multi_class='multinomial').fit(tf_mat,characters_encoded)\n",
    "weights_matrix = log_classifier.coef_\n",
    "character_words = []\n",
    "key_characters = ['Cartman', 'Kyle', 'Stan', 'Randy', 'Kenny', 'Chef', 'Wendy', 'Butters', 'Sharon', 'Craig', 'Towelie', 'Mr. Garrison', 'Mr. Slave', 'Token', 'Jimbo', 'Ned', 'Timmy', 'Jimmy', 'Mr. Mackey', 'Satan', 'Terrance', 'Phillip', 'Big Gay Al', 'Tweek', 'Grandpa', 'Ike']\n",
    "feature_words = vectorizer.get_feature_names()\n",
    "for char in key_characters:\n",
    "    row = encoder.transform([char])\n",
    "    word_weights = weights_matrix[row,:]\n",
    "    sorted_features = np.argsort(-word_weights,axis=1)\n",
    "    sorted_features = np.squeeze(np.asarray(sorted_features))\n",
    "    sorted_words = [feature_words[feat] for feat in sorted_features]\n",
    "    words = sorted_words[0:10]\n",
    "    character_words.append(words)\n",
    "    \n",
    "dic = {\"Character\":key_characters}\n",
    "df_main = pd.DataFrame(dic)\n",
    "df_main.insert(1,\"Characteristic Words via Logistic Feature Importance\",character_words)\n",
    "print(df_main)"
   ]
  },
  {
   "cell_type": "code",
   "execution_count": 12,
   "metadata": {
    "colab": {},
    "colab_type": "code",
    "id": "8EWKoe3cde4O",
    "outputId": "24c370d9-0c18-48ed-c94d-c4cc03f92653"
   },
   "outputs": [
    {
     "name": "stdout",
     "output_type": "stream",
     "text": [
      "       Character                      Characteristic Words via Lift\n",
      "0        Cartman  [oh, kyle, guys, get, right, know, go, gonna, ...\n",
      "1           Kyle  [dude, cartman, yeah, get, know, oh, go, gonna...\n",
      "2           Stan  [dude, yeah, oh, cartman, get, go, know, gonna...\n",
      "3          Randy  [oh, stan, yeah, get, know, well, right, sharo...\n",
      "4          Kenny  [yeah, oh, hey, fuck, guys, dude, uh, woohoo, ...\n",
      "5           Chef  [children, oh, get, well, know, come, hello, g...\n",
      "6          Wendy  [stan, oh, know, like, guys, bebe, hey, really...\n",
      "7        Butters  [oh, uh, well, hey, yeah, know, get, like, go,...\n",
      "8         Sharon  [randy, oh, stanley, know, right, go, get, wel...\n",
      "9          Craig  [guys, yeah, hey, get, us, could, gonna, oh, g...\n",
      "10       Towelie  [get, high, towel, oh, yeah, bring, hey, goin,...\n",
      "11  Mr. Garrison  [mr, oh, children, well, hat, okay, get, know,...\n",
      "12     Mr. Slave  [jesus, christ, oh, garrison, mr, whore, aah, ...\n",
      "13         Token  [yeah, oh, know, like, gonna, well, get, hey, ...\n",
      "14         Jimbo  [ned, well, get, right, let, hey, got, us, oh,...\n",
      "15           Ned  [mmm, kumbayah, mm, lord, mmmm, oh, moh, jimbo...\n",
      "16         Timmy  [timmih, timmy, gobbles, timmiihh, timmay, liv...\n",
      "17         Jimmy  [well, oh, fellas, timmy, know, yeah, get, lik...\n",
      "18    Mr. Mackey  [kay, uh, okay, oh, well, eric, know, get, bad...\n",
      "19         Satan  [chris, saddam, know, oh, god, like, go, one, ...\n",
      "20      Terrance  [phillip, oh, hey, well, like, sure, wait, sco...\n",
      "21       Phillip  [terrance, oh, fart, like, say, yes, look, rig...\n",
      "22    Big Gay Al  [gay, scouts, big, kids, oh, see, think, come,...\n",
      "23         Tweek  [oh, jesus, god, man, huh, guys, uh, get, gonn...\n",
      "24       Grandpa  [well, billy, hell, little, oh, ya, damnit, ha...\n",
      "25           Ike  [oh, hee, kyle, baby, like, buh, foofa, little...\n"
     ]
    }
   ],
   "source": [
    "# Lift is a popular association rule used in data mining. Closely connected to Bayesian statistics. \n",
    "# Basic concept is to measure variable association with simple Bayesian probabilities. How likely is X to occur given Y? How likely was Y to occur to begin with?\n",
    "num_rows,num_cols = document_term_matrix.shape\n",
    "cols,rows = np.arange(num_cols),np.arange(num_rows)\n",
    "column_words = count_vectorizer.get_feature_names()\n",
    "word_columns = {column_words[col]:col for col in cols}\n",
    "words = word_columns.keys()\n",
    "character_words = []\n",
    "\n",
    "# Normalize tfidf scores across both dimensions to form a character based tfidf probability density function.\n",
    "total = np.sum(np.sum(document_term_matrix[:,:],axis=0),axis=1)\n",
    "\n",
    "# For each key character, we'll measure how characteristic a word is with that word's lift on the character.\n",
    "# Lift(X -> Y) = prob(X and Y)/prob(X)*prob(Y) = prob(X|Y)/prob(X) \n",
    "for character in key_characters:\n",
    "    character_rows = character_to_rows[character]\n",
    "    character_total = np.sum(document_term_matrix[character_rows,:])\n",
    "    prior = character_total/total\n",
    "    lifts = {}\n",
    "    for word in words:\n",
    "        col = word_columns[word]\n",
    "        character_word_total = np.sum(document_term_matrix[character_rows,col])\n",
    "        posterior = np.float(character_word_total)/np.float(character_total)\n",
    "        lift = posterior/prior\n",
    "        lifts[word] = lift\n",
    "\n",
    "    sorted_words = sorted(lifts,key=lifts.get,reverse=True)\n",
    "    top_words = sorted_words[0:10]\n",
    "    character_words.append(top_words)\n",
    "\n",
    "df_lift = pd.DataFrame({\"Character\":key_characters})\n",
    "df_lift.insert(1,\"Characteristic Words via Lift\",character_words)\n",
    "print(df_lift)     "
   ]
  },
  {
   "cell_type": "markdown",
   "metadata": {},
   "source": [
    "Now we'll find characteristic words using the lift assocation rule, with class likelihoods and word priors taken from a multinomial **Naive Bayes** model. Naive Bayes is one of the tried and true classification approaches. It assumes that all features are conditionally independent: a feature's information about a class is independent of all other features. Hence, the naivety. In practice, however, this assumption usually doesn't result in much approximation error. Strengths of Naive Bayes include training speed, robustness, simplicity and interpretability. "
   ]
  },
  {
   "cell_type": "code",
   "execution_count": 13,
   "metadata": {
    "colab": {},
    "colab_type": "code",
    "id": "8PfgbnoEde4R",
    "outputId": "e446c780-63fc-473d-8186-f2fb57701901"
   },
   "outputs": [
    {
     "name": "stdout",
     "output_type": "stream",
     "text": [
      "       Character          Characteristic Words via Naive Bayes Lift\n",
      "0        Cartman  [kyle, guys, butters, oh, yeah, right, dude, m...\n",
      "1           Kyle  [cartman, dude, yeah, don, stan, know, oh, ike...\n",
      "2           Stan  [dude, yeah, cartman, dad, don, oh, kyle, know...\n",
      "3          Randy  [stan, sharon, oh, yeah, know, just, uh, right...\n",
      "4          Kenny  [yeah, fuck, woohoo, hey, oh, huh, uh, dude, g...\n",
      "5           Chef  [children, hello, oh, right, don, hell, love, ...\n",
      "6          Wendy  [stan, bebe, hi, guys, oh, yeah, don, hey, oka...\n",
      "7        Butters  [uh, oh, yeah, huh, eric, hey, fellas, dad, ah...\n",
      "8         Sharon  [randy, stanley, oh, right, stan, son, don, kn...\n",
      "9          Craig  [guys, yeah, don, hey, craig, right, okay, say...\n",
      "10       Towelie  [towel, high, bring, goin, yeah, don, forget, ...\n",
      "11  Mr. Garrison  [hat, mr, children, eric, oh, okay, just, don,...\n",
      "12     Mr. Slave  [christ, jesus, garrison, oh, mr, whore, sweet...\n",
      "13         Token  [yeah, don, hey, rich, oh, know, stan, gonna, ...\n",
      "14         Jimbo  [ned, let, hell, hey, yeah, got, right, don, r...\n",
      "15           Ned  [mmm, mm, jimbo, ow, doing, voice, box, okay, ...\n",
      "16         Timmy  [timmih, timmy, lie, ah, help, heh, ha, jimmy,...\n",
      "17         Jimmy  [fellas, timmy, comedy, wow, really, just, hey...\n",
      "18    Mr. Mackey  [kay, uh, okay, eric, oh, bad, students, boys,...\n",
      "19         Satan  [chris, saddam, god, yeah, just, oh, know, yes...\n",
      "20      Terrance  [phillip, scott, oh, sure, fart, hey, pull, li...\n",
      "21       Phillip  [terrance, oh, fart, ugly, yes, look, tell, ca...\n",
      "22    Big Gay Al  [scouts, gay, come, big, really, boys, super, ...\n",
      "23         Tweek  [jesus, man, god, oh, huh, guys, don, uh, ah, ...\n",
      "24       Grandpa  [billy, damnit, ya, hell, little, family, does...\n",
      "25           Ike  [oh, kyle, dead, baby, pants, monster, kick, u...\n"
     ]
    }
   ],
   "source": [
    "classifier = MultinomialNB().fit(tf_mat,characters_encoded)\n",
    "posteriors = classifier.feature_log_prob_\n",
    "posteriors = np.exp(posteriors)\n",
    "word_priors = np.sum(posteriors,axis=0)\n",
    "char_probs = np.exp(classifier.class_log_prior_)\n",
    "feature_characters = encoder.classes_\n",
    "lift_words = []\n",
    "for character in key_characters:\n",
    "    index = encoder.transform([character])\n",
    "    char_posteriors = posteriors[index]\n",
    "    lifts = np.divide(char_posteriors,word_priors)\n",
    "    top_cols = np.argsort(-lifts,axis=1)\n",
    "    top_cols = np.squeeze(np.asarray(top_cols))\n",
    "    top_words = [feature_words[col] for col in top_cols]\n",
    "    lift_words.append(top_words)\n",
    "  \n",
    "df_lift = pd.DataFrame({\"Character\":key_characters})\n",
    "df_lift.insert(1,\"Characteristic Words via Naive Bayes Lift\",lift_words)\n",
    "print(df_lift)   "
   ]
  },
  {
   "cell_type": "markdown",
   "metadata": {},
   "source": [
    "## Predictive Modeling\n",
    "Finally, we'll classify quotes into their speaking characters by processing them through a full NLP classification pipeline. Quotes will be processed into lemmatized tokens, then vectorized into features and subsequently classified. Model training and testing entails some minor extra steps since feature processing now requires its own training, in addition to model training. We should first train our vectorizer on some training data, then train our classifier on the vectorized transformation of this training data. \n",
    "\n",
    "To get a sense of how different aspects of the pipeline affect classificiation performance, we'll train and test pipelines with different design configurations. Tfidf vs. count vectorization will be compared, as well as three different classification models: logistic, SVM, and multinomial Naive Bayes. "
   ]
  },
  {
   "cell_type": "code",
   "execution_count": 14,
   "metadata": {
    "colab": {},
    "colab_type": "code",
    "id": "PGYfkdKwde4U",
    "outputId": "42987116-9c11-4196-840f-36b7722b14cd"
   },
   "outputs": [],
   "source": [
    "from sklearn.model_selection import train_test_split\n",
    "from sklearn.linear_model import SGDClassifier\n",
    "from sklearn.model_selection import train_test_split\n",
    "\n",
    "tfidf_vectorizer = TfidfVectorizer(stop_words=stop_words)\n",
    "vectorizer = CountVectorizer(stop_words=stop_words)\n",
    "\n",
    "df_train,df_test = train_test_split(df,test_size=.3)\n",
    "quotes_train,quotes_test = df_train['Line'],df_test['Line']\n",
    "characters_train,characters_test = df_train['Character'],df_test['Character']\n",
    "X_train = vectorizer.fit_transform(quotes_train)\n",
    "X_test = vectorizer.transform(quotes_test)\n",
    "Y_train,Y_test = df_train['Character'],df_test['Character']"
   ]
  },
  {
   "cell_type": "code",
   "execution_count": 15,
   "metadata": {},
   "outputs": [
    {
     "name": "stdout",
     "output_type": "stream",
     "text": [
      "Log training score: 0.30950893666753987\n",
      "Log test score: 0.21796981522403497\n",
      "SVM count training score: 0.528361577367159\n",
      "SVM count test score: 0.20499318256617613\n",
      "Naive Bayes count training score: 0.2672738630181151\n",
      "Naive Bayes count test score: 0.19243970097324745\n"
     ]
    }
   ],
   "source": [
    "from sklearn.linear_model import LogisticRegression, SGDClassifier,SGDRegressor\n",
    "count_scores = {}\n",
    "\n",
    "sgd_classifier = SGDClassifier('log').fit(X_train,Y_train)\n",
    "score = sgd_classifier.score(X_train,Y_train)\n",
    "print('Log training score: ' + str(score))\n",
    "score = sgd_classifier.score(X_test,Y_test)\n",
    "print('Log test score: ' + str(score))\n",
    "count_scores['log'] = score\n",
    "\n",
    "svm_classifier = SGDClassifier().fit(X_train,Y_train)\n",
    "svm_classifier.fit(X_train,Y_train)\n",
    "score = svm_classifier.score(X_train,Y_train)\n",
    "print('SVM count training score: ' + str(score))\n",
    "score = svm_classifier.score(X_test,Y_test)\n",
    "print('SVM count test score: ' + str(score))\n",
    "count_scores['svm'] = score\n",
    "\n",
    "NB_classifier = MultinomialNB().fit(X_train,Y_train)\n",
    "score = NB_classifier.score(X_train,Y_train)\n",
    "print('Naive Bayes count training score: ' + str(score))\n",
    "score = NB_classifier.score(X_test,Y_test)\n",
    "print('Naive Bayes count test score: ' + str(score))\n",
    "count_scores['bayes'] = score"
   ]
  },
  {
   "cell_type": "code",
   "execution_count": 16,
   "metadata": {},
   "outputs": [],
   "source": [
    "tfidf_scores = {}\n",
    "df_train,df_test = train_test_split(df,test_size=.3)\n",
    "quotes_train,quotes_test = df_train['Line'],df_test['Line']\n",
    "characters_train,characters_test = df_train['Character'],df_test['Character']"
   ]
  },
  {
   "cell_type": "code",
   "execution_count": 17,
   "metadata": {},
   "outputs": [
    {
     "name": "stdout",
     "output_type": "stream",
     "text": [
      "Log tfidf training score: 0.21699881113103753\n",
      "Log tfidf test score: 0.1932860031031078\n",
      "SVM tfidf training: 0.5850444314586818\n",
      "SVM tfidf test score: 0.2046170482862382\n",
      "Naive Bayes tfidf training score: 0.22397082233461624\n",
      "Naive Bayes tfidf test score: 0.17974516902534204\n"
     ]
    }
   ],
   "source": [
    "tfidf_scores = {}\n",
    "\n",
    "X_train = tfidf_vectorizer.fit_transform(quotes_train)\n",
    "X_test = tfidf_vectorizer.transform(quotes_test)\n",
    "Y_train,Y_test = df_train['Character'],df_test['Character']\n",
    "\n",
    "sgd_classifier = SGDClassifier('log').fit(X_train,Y_train)\n",
    "score = sgd_classifier.score(X_train,Y_train)\n",
    "print('Log tfidf training score: ' + str(score))\n",
    "score = sgd_classifier.score(X_test,Y_test)\n",
    "print('Log tfidf test score: ' + str(score))\n",
    "tfidf_scores['log'] = score\n",
    "\n",
    "sgd_classifier = SGDClassifier('hinge').fit(X_train,Y_train)\n",
    "score = sgd_classifier.score(X_train,Y_train)\n",
    "print('SVM tfidf training: ' + str(score))\n",
    "score = sgd_classifier.score(X_test,Y_test)\n",
    "print('SVM tfidf test score: ' + str(score))\n",
    "count_scores['svm'] = score\n",
    "\n",
    "NB_classifier = MultinomialNB().fit(X_train,Y_train)\n",
    "score = NB_classifier.score(X_train,Y_train)\n",
    "print('Naive Bayes tfidf training score: ' + str(score))\n",
    "score = NB_classifier.score(X_test,Y_test)\n",
    "print('Naive Bayes tfidf test score: ' + str(score))\n",
    "count_scores['bayes'] = score"
   ]
  },
  {
   "cell_type": "markdown",
   "metadata": {},
   "source": [
    "Classification accuracy is expected to be lower for NLP problems. But consistently getting accuracies around 20% is sufficiently low to warrant a failure and attempt at revision. Observe that variation of accuracy across different vectorizations and models has actually been very low. A valuable insight data scientists often learn through gaining experience is that *features and input data often have a stronger impact on model performance than model choice itself*. \n",
    "\n",
    "In light of this insight, *does our data have any fundamental flaws?* To be more precise, *does the data possess any qualities that could significantly hamper classification?* Well, we're trying to predict speaking characters, and there are hundreds to thousands of South Park characters. It's apparent through revisting some of the previous character analysis that we have about 4000 distinct characters in our processed, vectorized data. This would be OK if each character had a substantial amount of accompanying quotes, but such is not the case. Take a look at the following code snippet. "
   ]
  },
  {
   "cell_type": "code",
   "execution_count": 18,
   "metadata": {},
   "outputs": [
    {
     "name": "stdout",
     "output_type": "stream",
     "text": [
      "Median amount of character quotes: 2.0\n"
     ]
    }
   ],
   "source": [
    "character_frequency_median = np.median(df_characters['# of Quotes'])\n",
    "print(\"Median amount of character quotes: \" + str(character_frequency_median))"
   ]
  },
  {
   "cell_type": "markdown",
   "metadata": {},
   "source": [
    "At least half of characters have 2 quotes. This is far less input data than needed for even the simplest of machine learning problems and models. Excluding characters with insufficient data, as determined by a minimum frequency threshold, is likely to result in significant improvement."
   ]
  },
  {
   "cell_type": "code",
   "execution_count": 19,
   "metadata": {},
   "outputs": [
    {
     "name": "stdout",
     "output_type": "stream",
     "text": [
      "Included characters. {'Mr. Garrison', 'Kenny', 'Jimbo', 'Chef', 'Kyle', 'Gerald', 'Sheila', 'Sharon', 'Liane', 'Randy', 'Jimmy', 'Butters', 'Wendy', 'Stan', 'Mr. Mackey', 'Cartman'}\n"
     ]
    }
   ],
   "source": [
    "min_frequency = 500\n",
    "model_characters = df_characters.loc[df_characters['# of Quotes'] > min_frequency]\n",
    "model_df = df.loc[df['Character'].isin(model_characters['Character'].values)]\n",
    "model_characters = set(model_df['Character'].values)\n",
    "print(\"Included characters: \" + str(model_characters))\n",
    "\n",
    "df_train,df_test = train_test_split(model_df,test_size=.3)\n",
    "quotes_train,quotes_test = df_train['Line'],df_test['Line']\n",
    "characters_train,characters_test = df_train['Character'],df_test['Character']\n",
    "X_train = vectorizer.fit_transform(quotes_train)\n",
    "X_test = vectorizer.transform(quotes_test)\n",
    "Y_train,Y_test = df_train['Character'],df_test['Character']"
   ]
  },
  {
   "cell_type": "code",
   "execution_count": 20,
   "metadata": {},
   "outputs": [
    {
     "name": "stdout",
     "output_type": "stream",
     "text": [
      "Log tfidf training score: 0.4450381679389313\n",
      "Log tfidf test score: 0.36459168225131355\n",
      "SVM tfidf training: 0.6098473282442748\n",
      "SVM tfidf test score: 0.3870335737821712\n",
      "Naive Bayes tfidf training score: 0.4388931297709924\n",
      "Naive Bayes tfidf test score: 0.3323537269569864\n"
     ]
    }
   ],
   "source": [
    "tfidf_scores = {}\n",
    "\n",
    "X_train = tfidf_vectorizer.fit_transform(quotes_train)\n",
    "X_test = tfidf_vectorizer.transform(quotes_test)\n",
    "Y_train,Y_test = df_train['Character'],df_test['Character']\n",
    "\n",
    "sgd_classifier = SGDClassifier('log').fit(X_train,Y_train)\n",
    "score = sgd_classifier.score(X_train,Y_train)\n",
    "print('Log tfidf training score: ' + str(score))\n",
    "score = sgd_classifier.score(X_test,Y_test)\n",
    "print('Log tfidf test score: ' + str(score))\n",
    "tfidf_scores['log'] = score\n",
    "\n",
    "sgd_classifier = SGDClassifier('hinge').fit(X_train,Y_train)\n",
    "score = sgd_classifier.score(X_train,Y_train)\n",
    "print('SVM tfidf training: ' + str(score))\n",
    "score = sgd_classifier.score(X_test,Y_test)\n",
    "print('SVM tfidf test score: ' + str(score))\n",
    "count_scores['svm'] = score\n",
    "\n",
    "NB_classifier = MultinomialNB().fit(X_train,Y_train)\n",
    "score = NB_classifier.score(X_train,Y_train)\n",
    "print('Naive Bayes tfidf training score: ' + str(score))\n",
    "score = NB_classifier.score(X_test,Y_test)\n",
    "print('Naive Bayes tfidf test score: ' + str(score))\n",
    "count_scores['bayes'] = score"
   ]
  },
  {
   "cell_type": "code",
   "execution_count": 21,
   "metadata": {},
   "outputs": [
    {
     "name": "stdout",
     "output_type": "stream",
     "text": [
      "Log count training score: 0.4450381679389313\n",
      "Log count test score: 0.3651260130020483\n",
      "SVM count training score: 0.6101908396946565\n",
      "SVM count test score: 0.38925995191023244\n",
      "Naive Bayes count training score: 0.4388931297709924\n",
      "Naive Bayes count test score: 0.3323537269569864\n"
     ]
    }
   ],
   "source": [
    "count_scores = {}\n",
    "\n",
    "sgd_classifier = SGDClassifier('log').fit(X_train,Y_train)\n",
    "score = sgd_classifier.score(X_train,Y_train)\n",
    "print('Log count training score: ' + str(score))\n",
    "score = sgd_classifier.score(X_test,Y_test)\n",
    "print('Log count test score: ' + str(score))\n",
    "count_scores['log'] = score\n",
    "\n",
    "svm_classifier = SGDClassifier().fit(X_train,Y_train)\n",
    "svm_classifier.fit(X_train,Y_train)\n",
    "score = svm_classifier.score(X_train,Y_train)\n",
    "print('SVM count training score: ' + str(score))\n",
    "score = svm_classifier.score(X_test,Y_test)\n",
    "print('SVM count test score: ' + str(score))\n",
    "count_scores['svm'] = score\n",
    "\n",
    "NB_classifier = MultinomialNB().fit(X_train,Y_train)\n",
    "score = NB_classifier.score(X_train,Y_train)\n",
    "print('Naive Bayes count training score: ' + str(score))\n",
    "score = NB_classifier.score(X_test,Y_test)\n",
    "print('Naive Bayes count test score: ' + str(score))\n",
    "count_scores['bayes'] = score"
   ]
  },
  {
   "cell_type": "markdown",
   "metadata": {},
   "source": [
    "Our hypothesis was right! Filtering out training and testing data of infrequent classes resulted in almost doubled accuracy. Interestingly, variation in accuracy between tfidf and count vectorization remains very low. Similarly, accuracy variation across the three models is again somewhat trivial. Although the fact that Naive Bayes consistently yielded the highest error may partially be connected to its independence assumption. A word's surrounding words provide significant value to its meaning. This suggests that class likelihood from one word is dependent on information about other words, which conflicts with the feature independence assumption made by Naive Bayes. "
   ]
  },
  {
   "cell_type": "code",
   "execution_count": null,
   "metadata": {},
   "outputs": [],
   "source": []
  }
 ],
 "metadata": {
  "colab": {
   "collapsed_sections": [],
   "name": "Copy of SouthPark_DataMining.ipynb",
   "provenance": [
    {
     "file_id": "1bq-2nhAgJ0wA4FoRR6sQObmUHdl5Pq6V",
     "timestamp": 1586366276612
    }
   ]
  },
  "kernelspec": {
   "display_name": "Python 3",
   "language": "python",
   "name": "python3"
  },
  "language_info": {
   "codemirror_mode": {
    "name": "ipython",
    "version": 3
   },
   "file_extension": ".py",
   "mimetype": "text/x-python",
   "name": "python",
   "nbconvert_exporter": "python",
   "pygments_lexer": "ipython3",
   "version": "3.7.6"
  }
 },
 "nbformat": 4,
 "nbformat_minor": 1
}
